{
 "cells": [
  {
   "cell_type": "code",
   "execution_count": 7,
   "id": "729e66e4-9939-475d-8ca7-1348a800a04c",
   "metadata": {},
   "outputs": [
    {
     "name": "stdout",
     "output_type": "stream",
     "text": [
      "Dataset has been split into training and validation sets.\n"
     ]
    }
   ],
   "source": [
    "import os\n",
    "import shutil\n",
    "import random\n",
    "\n",
    "# Paths to your dataset\n",
    "real_images_path = r'C:\\Users\\karti\\Deepfake Ashutosh\\real_and_fake_face\\training_real'\n",
    "fake_images_path = r'C:\\Users\\karti\\Deepfake Ashutosh\\real_and_fake_face\\training_fake'\n",
    "\n",
    "# Paths where you want to store the train and validation sets\n",
    "train_real_path = r'C:\\Users\\karti\\Deepfake Ashutosh\\train real'\n",
    "train_fake_path = r'C:\\Users\\karti\\Deepfake Ashutosh\\train fake'\n",
    "val_real_path = r'C:\\Users\\karti\\Deepfake Ashutosh\\val fake'\n",
    "val_fake_path = r'C:\\Users\\karti\\Deepfake Ashutosh\\val fake'\n",
    "\n",
    "# Create directories for training and validation sets if they don't exist\n",
    "os.makedirs(train_real_path, exist_ok=True)\n",
    "os.makedirs(train_fake_path, exist_ok=True)\n",
    "os.makedirs(val_real_path, exist_ok=True)\n",
    "os.makedirs(val_fake_path, exist_ok=True)\n",
    "\n",
    "# Function to split images into train and validation sets\n",
    "def split_data(image_folder, train_folder, val_folder, val_ratio=0.2):\n",
    "    # List all image files in the folder\n",
    "    images = [f for f in os.listdir(image_folder) if f.endswith(('.jpg', '.png'))]\n",
    "    \n",
    "    # Shuffle the list to randomize the split\n",
    "    random.shuffle(images)\n",
    "    \n",
    "    # Calculate the split index based on the validation ratio\n",
    "    split_index = int(len(images) * (1 - val_ratio))\n",
    "    \n",
    "    # Move images to the training set\n",
    "    for image in images[:split_index]:\n",
    "        shutil.copy(os.path.join(image_folder, image), train_folder)\n",
    "    \n",
    "    # Move images to the validation set\n",
    "    for image in images[split_index:]:\n",
    "        shutil.copy(os.path.join(image_folder, image), val_folder)\n",
    "\n",
    "# Split the real and fake images into train and validation sets\n",
    "split_data(real_images_path, train_real_path, val_real_path)\n",
    "split_data(fake_images_path, train_fake_path, val_fake_path)\n",
    "\n",
    "print(\"Dataset has been split into training and validation sets.\")"
   ]
  },
  {
   "cell_type": "code",
   "execution_count": null,
   "id": "218f208a-61ca-4ffb-854b-f95eaa9e1ba2",
   "metadata": {},
   "outputs": [],
   "source": []
  }
 ],
 "metadata": {
  "kernelspec": {
   "display_name": "Python 3 (ipykernel)",
   "language": "python",
   "name": "python3"
  },
  "language_info": {
   "codemirror_mode": {
    "name": "ipython",
    "version": 3
   },
   "file_extension": ".py",
   "mimetype": "text/x-python",
   "name": "python",
   "nbconvert_exporter": "python",
   "pygments_lexer": "ipython3",
   "version": "3.11.4"
  }
 },
 "nbformat": 4,
 "nbformat_minor": 5
}
